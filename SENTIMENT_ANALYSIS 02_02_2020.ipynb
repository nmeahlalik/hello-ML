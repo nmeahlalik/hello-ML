{
 "cells": [
  {
   "cell_type": "code",
   "execution_count": 1,
   "metadata": {},
   "outputs": [],
   "source": [
    "## import textblob library\n",
    "from textblob import TextBlob"
   ]
  },
  {
   "cell_type": "code",
   "execution_count": 10,
   "metadata": {},
   "outputs": [
    {
     "name": "stdout",
     "output_type": "stream",
     "text": [
      "Sentiment(polarity=1.0, subjectivity=1.0)\n",
      "Sentiment(polarity=0.5, subjectivity=0.5)\n",
      "Sentiment(polarity=-0.6999999999999998, subjectivity=0.6666666666666666)\n"
     ]
    }
   ],
   "source": [
    "## created text both positive and negative\n",
    "## created textblob object as blob1, blob2,blob3 and pass argument -text\n",
    "## textblob name dot sentiment will give 2 attribute which is polarity and subjectivity\n",
    "## polarity ranges between -1 and +1 \n",
    "## polarity conveys emotion like its positive or negative or neutral\n",
    "## subjectivity does not convey emotion. Sentences like -for eg \"i want to buy camera.\" it does not have any emotion and sentiment so its subjective.\n",
    "\n",
    "\n",
    "text1='movie was awesome, im gonna watch it again'\n",
    "text2='movie was ok ok type, one time watch'\n",
    "text3='bad movie, wont recommend others'\n",
    "blob1=TextBlob(text1) ## created textblob object blob1 and pass argument 'text'\n",
    "blob2=TextBlob(text2)\n",
    "blob3=TextBlob(text3)\n",
    "print(blob1.sentiment) ## for polarity and subjectivity\n",
    "print(blob2.sentiment)\n",
    "print(blob3.sentiment)"
   ]
  },
  {
   "cell_type": "code",
   "execution_count": 3,
   "metadata": {},
   "outputs": [],
   "source": [
    "## create function name get_sentiment which accept argument text\n",
    "def get_sentiment(text):\n",
    "    polarity=TextBlob(text).sentiment.polarity # created variable polarity..found sentiment polarity of text\n",
    "    if polarity>0: ## if polarity =0 then its +ve review else its -ve review.\n",
    "        print(text)\n",
    "        print('\\t(is a positive review)')\n",
    "    else:\n",
    "        print(text)\n",
    "        print('\\t(is a negative review)')"
   ]
  },
  {
   "cell_type": "code",
   "execution_count": 4,
   "metadata": {},
   "outputs": [
    {
     "name": "stdout",
     "output_type": "stream",
     "text": [
      "movie was awesome, im gonna watch it again\n",
      "\t(is a positive review)\n"
     ]
    }
   ],
   "source": [
    "## call the function created above which takes text as argument and got the answer as positive or negative\n",
    "get_sentiment(text1)"
   ]
  },
  {
   "cell_type": "code",
   "execution_count": 5,
   "metadata": {},
   "outputs": [
    {
     "name": "stdout",
     "output_type": "stream",
     "text": [
      "movie was ok ok type, one time watch\n",
      "\t(is a positive review)\n"
     ]
    }
   ],
   "source": [
    "get_sentiment(text2)"
   ]
  },
  {
   "cell_type": "code",
   "execution_count": 6,
   "metadata": {},
   "outputs": [
    {
     "name": "stdout",
     "output_type": "stream",
     "text": [
      "bad movie, wont recommend others\n",
      "\t(is a negative review)\n"
     ]
    }
   ],
   "source": [
    "get_sentiment(text3)"
   ]
  }
 ],
 "metadata": {
  "kernelspec": {
   "display_name": "Python 3",
   "language": "python",
   "name": "python3"
  },
  "language_info": {
   "codemirror_mode": {
    "name": "ipython",
    "version": 3
   },
   "file_extension": ".py",
   "mimetype": "text/x-python",
   "name": "python",
   "nbconvert_exporter": "python",
   "pygments_lexer": "ipython3",
   "version": "3.7.4"
  }
 },
 "nbformat": 4,
 "nbformat_minor": 2
}
